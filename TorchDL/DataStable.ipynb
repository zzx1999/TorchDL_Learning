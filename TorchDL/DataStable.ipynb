{
 "cells": [
  {
   "cell_type": "code",
   "execution_count": null,
   "metadata": {},
   "outputs": [],
   "source": [
    "#数值稳定性，计算损失l关于W的梯度一般使用各层导数叠加相乘，向量的导数是矩阵\n",
    "#数值稳定两个常见问题：梯度爆炸，梯度消失\n",
    "#梯度爆炸问题：超出值域，对于16位浮点数尤其。对学习率敏感，学习率可行性范围很小。eg)ReLu\n",
    "#梯度消失问题使用sigmoid函数\n",
    "#梯度消失问题：训练没有进展仅仅顶层网络训练的比较好\n",
    "#训练稳定：梯度值在合理范围里面\n",
    "#   乘法变加法：ResNet,LSTM;梯度归一化，梯度剪裁\n",
    "#   权重初始化合理以及激活函数选择合理，把输出和梯度都看成随机变量，让他们的方差(a)均值(0)一致\n",
    "# 初始权重离最优解比较远的话损失函数表面可能会比较复杂，最优解附近一般比较平。\n",
    "#一般使用均值为0方差为1的正态分布初始化对于小网络是没有问题的\n",
    "#MLP例子 Var(x) = E(x^2) - E(x)^2,https://github.com/ucas-vg/TinyBenchmark，Xaviar随机初始化\n",
    "#激活函数尽量是f(x) = x,以sigmoid为例使用泰勒展开：sigmoid(x) = 1/2+x/4-x^3/48\n",
    "#调整为 4 × sigmoid(x)-2\n"
   ]
  }
 ],
 "metadata": {
  "kernelspec": {
   "display_name": "Python 3",
   "language": "python",
   "name": "python3"
  },
  "language_info": {
   "codemirror_mode": {
    "name": "ipython",
    "version": 3
   },
   "file_extension": ".py",
   "mimetype": "text/x-python",
   "name": "python",
   "nbconvert_exporter": "python",
   "pygments_lexer": "ipython3",
   "version": "3.8.3"
  }
 },
 "nbformat": 4,
 "nbformat_minor": 4
}
