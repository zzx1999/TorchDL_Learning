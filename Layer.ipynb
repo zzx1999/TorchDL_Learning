{
 "cells": [
  {
   "cell_type": "code",
   "execution_count": 3,
   "metadata": {},
   "outputs": [
    {
     "data": {
      "text/plain": [
       "5.587935447692871e-09"
      ]
     },
     "execution_count": 3,
     "metadata": {},
     "output_type": "execute_result"
    }
   ],
   "source": [
    "#自定义层\n",
    "#CenteredLayer类通过继承Module类自定义了一个将输入减掉均值后输出的层，\n",
    "#并将层的计算定义在了forward函数里。这个层里不含模型参数。\n",
    "import torch\n",
    "from torch import nn\n",
    "\n",
    "class CenteredLayer(nn.Module):\n",
    "    def __init__(self):\n",
    "        super(CenteredLayer,self).__init__()\n",
    "    def forward(self,x):\n",
    "        return x-x.mean()\n",
    "layer = CenteredLayer()\n",
    "layer(torch.tensor([1,2,3,4,5],dtype=torch.float))\n",
    "#也可以用它构造更复杂模型\n",
    "net = nn.Sequential(nn.Linear(8,128),CenteredLayer())\n",
    "y = net(torch.rand(4,8))\n",
    "y.mean().item()"
   ]
  },
  {
   "cell_type": "code",
   "execution_count": 5,
   "metadata": {},
   "outputs": [
    {
     "name": "stdout",
     "output_type": "stream",
     "text": [
      "MyDense(\n",
      "  (params): ParameterList(\n",
      "      (0): Parameter containing: [torch.FloatTensor of size 4x4]\n",
      "      (1): Parameter containing: [torch.FloatTensor of size 4x4]\n",
      "      (2): Parameter containing: [torch.FloatTensor of size 4x4]\n",
      "      (3): Parameter containing: [torch.FloatTensor of size 4x1]\n",
      "  )\n",
      ")\n",
      "tensor([[14.4746],\n",
      "        [16.2503],\n",
      "        [ 6.8214],\n",
      "        [ 5.5919]], grad_fn=<MmBackward>)\n"
     ]
    }
   ],
   "source": [
    "#含参数的模型定义\n",
    "#在自定义含模型参数的层时，我们应该将参数定义成Parameter，除了直接定义成Parameter类外，\n",
    "#还可以使用ParameterList和ParameterDict分别定义参数的列表和字典。\n",
    "#ParameterList接收一个Parameter实例的列表作为输入然后得到一个参数列表，\n",
    "#使用的时候可以用索引来访问某个参数，另外也可以使用append和extend在列表后面新增参数。\n",
    "class MyDense(nn.Module):\n",
    "    def __init__(self):\n",
    "        super(MyDense,self).__init__()\n",
    "        self.params = nn.ParameterList([nn.Parameter(torch.randn(4,4)) for i in range(3)])\n",
    "        self.params.append(nn.Parameter(torch.randn(4,1)))\n",
    "    def forward(self,x):\n",
    "        for i in range(len(self.params)):\n",
    "            x = torch.mm(x,self.params[i])\n",
    "        return x\n",
    "net = MyDense()\n",
    "x = torch.rand(4,4)\n",
    "print(net)\n",
    "print(net(x))"
   ]
  },
  {
   "cell_type": "code",
   "execution_count": 8,
   "metadata": {},
   "outputs": [
    {
     "name": "stdout",
     "output_type": "stream",
     "text": [
      "MyDictDense(\n",
      "  (params): ParameterDict(\n",
      "      (linear1): Parameter containing: [torch.FloatTensor of size 4x4]\n",
      "      (linear2): Parameter containing: [torch.FloatTensor of size 4x1]\n",
      "      (linear3): Parameter containing: [torch.FloatTensor of size 4x2]\n",
      "  )\n",
      ")\n",
      "tensor([[ 2.2242,  0.4691, -0.3615,  2.9520]], grad_fn=<MmBackward>)\n"
     ]
    }
   ],
   "source": [
    "#ParameterDict接收一个Parameter实例的字典作为输入然后得到一个参数字典\n",
    "class MyDictDense(nn.Module):\n",
    "    def __init__(self):\n",
    "        super(MyDictDense,self).__init__()\n",
    "        self.params = nn.ParameterDict({\n",
    "            'linear1':nn.Parameter(torch.randn(4,4)),\n",
    "            'linear2':nn.Parameter(torch.randn(4,1))\n",
    "        })\n",
    "        #使用update新增参数\n",
    "        self.params.update({'linear3':nn.Parameter(torch.randn(4,2))})\n",
    "    def forward(self,x,choice='linear1'):\n",
    "        return torch.mm(x,self.params[choice])\n",
    "net = MyDictDense()\n",
    "print(net)\n",
    "x = torch.ones(1,4)\n",
    "print(net(x,'linear1'))\n",
    "#自定义模型也可以用Squential类叠加"
   ]
  },
  {
   "cell_type": "code",
   "execution_count": null,
   "metadata": {},
   "outputs": [],
   "source": []
  }
 ],
 "metadata": {
  "kernelspec": {
   "display_name": "Python 3",
   "language": "python",
   "name": "python3"
  },
  "language_info": {
   "codemirror_mode": {
    "name": "ipython",
    "version": 3
   },
   "file_extension": ".py",
   "mimetype": "text/x-python",
   "name": "python",
   "nbconvert_exporter": "python",
   "pygments_lexer": "ipython3",
   "version": "3.8.3"
  }
 },
 "nbformat": 4,
 "nbformat_minor": 4
}
