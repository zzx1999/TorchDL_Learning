{
 "cells": [
  {
   "cell_type": "code",
   "execution_count": 2,
   "metadata": {},
   "outputs": [
    {
     "name": "stdout",
     "output_type": "stream",
     "text": [
      "tensor([1., 1., 1.])\n"
     ]
    }
   ],
   "source": [
    "#读写和存取——模型参数\n",
    "#直接使用save函数和load函数分别存储和读取Tensor\n",
    "import torch\n",
    "from torch import nn\n",
    "x = torch.ones(3)\n",
    "torch.save(x,'x.pt')\n",
    "x2 = torch.load('x.pt')\n",
    "print(x2)"
   ]
  },
  {
   "cell_type": "code",
   "execution_count": 3,
   "metadata": {},
   "outputs": [
    {
     "name": "stdout",
     "output_type": "stream",
     "text": [
      "[tensor([1., 1., 1.]), tensor([1., 1., 1., 1.])]\n"
     ]
    }
   ],
   "source": [
    "#也可以存储tensor列表\n",
    "y = torch.ones(4)\n",
    "torch.save([x,y],'xy.pt')\n",
    "xy_list = torch.load('xy.pt')\n",
    "print(xy_list)"
   ]
  },
  {
   "cell_type": "code",
   "execution_count": 4,
   "metadata": {},
   "outputs": [
    {
     "data": {
      "text/plain": [
       "{'x': tensor([1., 1., 1.]), 'y': tensor([1., 1., 1., 1.])}"
      ]
     },
     "execution_count": 4,
     "metadata": {},
     "output_type": "execute_result"
    }
   ],
   "source": [
    "#也可以存储tensor字典\n",
    "torch.save({'x':x,'y':y},'xy_dict.pt')\n",
    "xy = torch.load('xy_dict.pt')\n",
    "xy"
   ]
  },
  {
   "cell_type": "code",
   "execution_count": 5,
   "metadata": {},
   "outputs": [
    {
     "data": {
      "text/plain": [
       "OrderedDict([('hidden.weight',\n",
       "              tensor([[-0.4645,  0.3396,  0.1528],\n",
       "                      [-0.4072,  0.4607, -0.2629]])),\n",
       "             ('hidden.bias', tensor([-0.4441, -0.2527])),\n",
       "             ('output.weight', tensor([[0.3795, 0.0545]])),\n",
       "             ('output.bias', tensor([-0.6106]))])"
      ]
     },
     "execution_count": 5,
     "metadata": {},
     "output_type": "execute_result"
    }
   ],
   "source": [
    "#模型读写\n",
    "#state_dict是一个从参数名称隐射到参数Tesnor的字典对象。\n",
    "class MLP(nn.Module):\n",
    "    def __init__(self):\n",
    "        super(MLP,self).__init__()\n",
    "        self.hidden = nn.Linear(3,2)\n",
    "        self.act = nn.ReLU()\n",
    "        self.output = nn.Linear(2,1)\n",
    "    def forward(self,x):\n",
    "        a = self.act(self.hidden(x))\n",
    "        return self.output(a)\n",
    "net = MLP()\n",
    "net.state_dict()\n",
    "    "
   ]
  },
  {
   "cell_type": "code",
   "execution_count": 6,
   "metadata": {},
   "outputs": [
    {
     "data": {
      "text/plain": [
       "{'state': {},\n",
       " 'param_groups': [{'lr': 0.001,\n",
       "   'momentum': 0.9,\n",
       "   'dampening': 0,\n",
       "   'weight_decay': 0,\n",
       "   'nesterov': False,\n",
       "   'params': [0, 1, 2, 3]}]}"
      ]
     },
     "execution_count": 6,
     "metadata": {},
     "output_type": "execute_result"
    }
   ],
   "source": [
    "#优化器也有\n",
    "optim = torch.optim.SGD(net.parameters(),lr=0.001,momentum=0.9)\n",
    "optim.state_dict()"
   ]
  },
  {
   "cell_type": "code",
   "execution_count": 7,
   "metadata": {},
   "outputs": [
    {
     "data": {
      "text/plain": [
       "tensor([[True],\n",
       "        [True]])"
      ]
     },
     "execution_count": 7,
     "metadata": {},
     "output_type": "execute_result"
    }
   ],
   "source": [
    "# PyTorch中保存和加载训练模型有两种常见的方法:\n",
    "\n",
    "#     仅保存和加载模型参数(state_dict)；——推荐\n",
    "#     保存和加载整个模型。\n",
    "X = torch.rand(2,3)\n",
    "y = net(X)\n",
    "torch.save(net.state_dict(),'./MLP.pt') #保存\n",
    "model = MLP()\n",
    "model.load_state_dict(torch.load('./MLP.pt'))\n",
    "y2 = model(X)\n",
    "y2==y\n"
   ]
  },
  {
   "cell_type": "code",
   "execution_count": null,
   "metadata": {},
   "outputs": [],
   "source": []
  }
 ],
 "metadata": {
  "kernelspec": {
   "display_name": "Python 3",
   "language": "python",
   "name": "python3"
  },
  "language_info": {
   "codemirror_mode": {
    "name": "ipython",
    "version": 3
   },
   "file_extension": ".py",
   "mimetype": "text/x-python",
   "name": "python",
   "nbconvert_exporter": "python",
   "pygments_lexer": "ipython3",
   "version": "3.8.3"
  }
 },
 "nbformat": 4,
 "nbformat_minor": 4
}
