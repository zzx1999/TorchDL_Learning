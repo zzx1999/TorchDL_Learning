{
 "cells": [
  {
   "cell_type": "code",
   "execution_count": 1,
   "metadata": {},
   "outputs": [
    {
     "name": "stdout",
     "output_type": "stream",
     "text": [
      "tensor([[-0.0608, -0.0539, -0.1801,  0.1617, -0.0128,  0.1229, -0.0498, -0.0169,\n",
      "         -0.1399,  0.0076],\n",
      "        [-0.1066,  0.0853, -0.1614,  0.1234, -0.0211, -0.0021,  0.0097,  0.0173,\n",
      "          0.0652, -0.1050]], grad_fn=<AddmmBackward>)\n"
     ]
    }
   ],
   "source": [
    "#神经网络基础——Moudle类\n",
    "#回顾SVM\n",
    "import torch\n",
    "from torch import nn\n",
    "from torch.nn import functional as F\n",
    "net = nn.Sequential(nn.Linear(20,256),nn.ReLU(),nn.Linear(256,10))\n",
    "X = torch.rand(2,20) #2*20\n",
    "print(net(X))"
   ]
  },
  {
   "cell_type": "code",
   "execution_count": 3,
   "metadata": {},
   "outputs": [
    {
     "name": "stdout",
     "output_type": "stream",
     "text": [
      "tensor([[-0.3276, -0.0123, -0.0433,  0.2119,  0.0616, -0.2372, -0.2080,  0.2814,\n",
      "         -0.0863,  0.0044],\n",
      "        [-0.1913, -0.0492,  0.0495,  0.3051, -0.0784, -0.2034, -0.1656,  0.3147,\n",
      "         -0.2544,  0.0923]], grad_fn=<AddmmBackward>)\n"
     ]
    }
   ],
   "source": [
    "#这边nn.Sequential相当于定义了一个module\n",
    "#基本上所有的层、模块都要继承Module类，\n",
    "#Module类的__init__函数和forward函数。它们分别用于创建模型参数和定义前向计算。前向计算也即正向传播。\n",
    "class MLP(nn.Module):\n",
    "    def __init__(self,**kwargs):\n",
    "        super(MLP,self).__init__(**kwargs)\n",
    "        self.hidden = nn.Linear(20,256)\n",
    "        self.act = nn.ReLU()\n",
    "        self.output = nn.Linear(256,10)\n",
    "\n",
    "    # 定义模型的前向计算，即如何根据输入x计算返回所需要的模型输出\n",
    "    def forward(self, x):\n",
    "        a = self.act(self.hidden(x))\n",
    "        return self.output(a)\n",
    "#实例化得到net\n",
    "net = MLP()\n",
    "print(net(X))"
   ]
  },
  {
   "cell_type": "code",
   "execution_count": 5,
   "metadata": {},
   "outputs": [
    {
     "name": "stdout",
     "output_type": "stream",
     "text": [
      "tensor([[-0.0213, -0.1035, -0.0988,  0.1665,  0.2055, -0.1810, -0.0367,  0.2841,\n",
      "         -0.1657,  0.1454],\n",
      "        [-0.0512, -0.1794, -0.0872,  0.1857,  0.1900, -0.1909, -0.0309,  0.2810,\n",
      "         -0.1732,  0.1011]], grad_fn=<AddmmBackward>)\n",
      "Sequential(\n",
      "  (0): Linear(in_features=20, out_features=256, bias=True)\n",
      "  (1): ReLU()\n",
      "  (2): Linear(in_features=256, out_features=10, bias=True)\n",
      ")\n"
     ]
    }
   ],
   "source": [
    "#Module子类\n",
    "#Sequential——当模型的前向计算为简单串联各个层的计算时，\n",
    "#可以接收一个子模块的有序字典（OrderedDict）或者一系列子模块作为参数来逐一添加Module的实例\n",
    "net = nn.Sequential(nn.Linear(20,256),nn.ReLU(),nn.Linear(256,10))\n",
    "X = torch.rand(2,20) #2*20\n",
    "print(net(X))\n",
    "print(net)"
   ]
  },
  {
   "cell_type": "code",
   "execution_count": 7,
   "metadata": {},
   "outputs": [
    {
     "name": "stdout",
     "output_type": "stream",
     "text": [
      "Linear(in_features=256, out_features=10, bias=True)\n",
      "ModuleList(\n",
      "  (0): Linear(in_features=20, out_features=256, bias=True)\n",
      "  (1): ReLU()\n",
      "  (2): Linear(in_features=256, out_features=10, bias=True)\n",
      ")\n"
     ]
    }
   ],
   "source": [
    "#ModuleList接收一个子模块的列表作为输入，然后也可以类似List那样进行append和extend操作:\n",
    "net = nn.ModuleList([nn.Linear(20,256),nn.ReLU()])\n",
    "net.append(nn.Linear(256,10))\n",
    "print(net[-1])#类似于List访问\n",
    "print(net)\n",
    "#ModuleList仅仅是一个储存各种模块的列表，这些模块之间没有联系也没有顺序\n",
    "#（所以不用保证相邻层的输入输出维度匹配），而且没有实现forward功能需要自己实现\n",
    "#ModuleList的出现只是让网络定义前向传播时更加灵活——act as iterable\n",
    "class MyModule(nn.Module):\n",
    "    def __init__(self):\n",
    "        super(MyModule, self).__init__()\n",
    "        self.linears = nn.ModuleList([nn.Linear(10, 10) for i in range(10)])\n",
    "\n",
    "    def forward(self, x):\n",
    "        # ModuleList can act as an iterable, or be indexed using ints\n",
    "        for i, l in enumerate(self.linears):\n",
    "            x = self.linears[i // 2](x) + l(x)\n",
    "        return x"
   ]
  },
  {
   "cell_type": "code",
   "execution_count": null,
   "metadata": {},
   "outputs": [],
   "source": [
    "class Module_ModuleList(nn.Module):\n",
    "    def __init__(self):\n",
    "        super(Module_ModuleList,self).__init__()\n",
    "        self.Linears = nn.ModuleList([nn.Linear(10,10)])\n"
   ]
  }
 ],
 "metadata": {
  "kernelspec": {
   "display_name": "Python 3",
   "language": "python",
   "name": "python3"
  },
  "language_info": {
   "codemirror_mode": {
    "name": "ipython",
    "version": 3
   },
   "file_extension": ".py",
   "mimetype": "text/x-python",
   "name": "python",
   "nbconvert_exporter": "python",
   "pygments_lexer": "ipython3",
   "version": "3.8.3"
  }
 },
 "nbformat": 4,
 "nbformat_minor": 4
}
